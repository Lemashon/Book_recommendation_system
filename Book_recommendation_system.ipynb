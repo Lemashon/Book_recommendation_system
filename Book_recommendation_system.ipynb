{
  "nbformat": 4,
  "nbformat_minor": 0,
  "metadata": {
    "colab": {
      "provenance": [],
      "authorship_tag": "ABX9TyPwW8nsG5uafuD8G1evg1Tb"
    },
    "kernelspec": {
      "name": "python3",
      "display_name": "Python 3"
    },
    "language_info": {
      "name": "python"
    }
  },
  "cells": [
    {
      "cell_type": "markdown",
      "source": [
        "\n",
        "This is a book recommendation algorithm using K-Nearest Neighbors.\n",
        "\n",
        "It uses the Book-Crossings dataset. This dataset contains 1.1 million ratings (scale of 1-10) of 270,000 books by 90,000 users.\n",
        "\n",
        "After importing and cleaning the data, use NearestNeighbors from sklearn.neighbors to develop a model that shows books that are similar to a given book. The Nearest Neighbors algorithm measures distance to determine the “closeness” of instances.\n",
        "\n",
        "Create a function named get_recommends that takes a book title (from the dataset) as an argument and returns a list of 5 similar books with their distances from the book argument.\n",
        "\n",
        "This code:\n",
        "\n",
        "get_recommends(\"The Queen of the Damned (Vampire Chronicles (Paperback))\")\n",
        "\n",
        "should return:"
      ],
      "metadata": {
        "id": "AwC6CYbJ0P73"
      }
    },
    {
      "cell_type": "code",
      "source": [
        "[\n",
        "  'The Queen of the Damned (Vampire Chronicles (Paperback))',\n",
        "  [\n",
        "    ['Catch 22', 0.793983519077301], \n",
        "    ['The Witching Hour (Lives of the Mayfair Witches)', 0.7448656558990479], \n",
        "    ['Interview with the Vampire', 0.7345068454742432],\n",
        "    ['The Tale of the Body Thief (Vampire Chronicles (Paperback))', 0.5376338362693787],\n",
        "    ['The Vampire Lestat (Vampire Chronicles, Book II)', 0.5178412199020386]\n",
        "  ]\n",
        "]"
      ],
      "metadata": {
        "colab": {
          "base_uri": "https://localhost:8080/"
        },
        "id": "HXqZGe2y0Qxa",
        "outputId": "d487b29d-fa39-48e0-b48c-cd94e2b85854"
      },
      "execution_count": null,
      "outputs": [
        {
          "output_type": "execute_result",
          "data": {
            "text/plain": [
              "['The Queen of the Damned (Vampire Chronicles (Paperback))',\n",
              " [['Catch 22', 0.793983519077301],\n",
              "  ['The Witching Hour (Lives of the Mayfair Witches)', 0.7448656558990479],\n",
              "  ['Interview with the Vampire', 0.7345068454742432],\n",
              "  ['The Tale of the Body Thief (Vampire Chronicles (Paperback))',\n",
              "   0.5376338362693787],\n",
              "  ['The Vampire Lestat (Vampire Chronicles, Book II)', 0.5178412199020386]]]"
            ]
          },
          "metadata": {},
          "execution_count": 1
        }
      ]
    },
    {
      "cell_type": "markdown",
      "source": [
        "Notice that the data returned from get_recommends() is a list. The first element in the list is the book title passed in to the function. The second element in the list is a list of five more lists. Each of the five lists contains a recommended book and the distance from the recommended book to the book passed in to the function.\n",
        "\n",
        "If you graph the dataset (optional), you will notice that most books are not rated frequently. To ensure statistical significance, remove from the dataset users with less than 200 ratings and books with less than 100 ratings.\n",
        "\n",
        "The first three cells import libraries you may need and the data to use. The final cell is for testing. Write all your code in between those cells."
      ],
      "metadata": {
        "id": "KfMiHvCW0SyW"
      }
    },
    {
      "cell_type": "code",
      "source": [
        "# import libraries (you may add additional imports but you may not have to)\n",
        "import numpy as np\n",
        "import pandas as pd\n",
        "from scipy.sparse import csr_matrix\n",
        "from sklearn.neighbors import NearestNeighbors\n",
        "import matplotlib.pyplot as plt"
      ],
      "metadata": {
        "id": "vh8BPuWx0UtJ"
      },
      "execution_count": null,
      "outputs": []
    },
    {
      "cell_type": "code",
      "source": [
        "# get data files\n",
        "!wget https://cdn.freecodecamp.org/project-data/books/book-crossings.zip -O book-crossings.zip\n",
        "\n",
        "!unzip -o book-crossings.zip\n",
        "\n",
        "books_filename = 'BX-Books.csv'\n",
        "ratings_filename = 'BX-Book-Ratings.csv'"
      ],
      "metadata": {
        "colab": {
          "base_uri": "https://localhost:8080/"
        },
        "id": "Xcm0d8Id0X_N",
        "outputId": "f7cc5b32-dc6d-4f80-e999-36d9a0fad0ee"
      },
      "execution_count": null,
      "outputs": [
        {
          "output_type": "stream",
          "name": "stdout",
          "text": [
            "--2023-01-08 19:19:56--  https://cdn.freecodecamp.org/project-data/books/book-crossings.zip\n",
            "Resolving cdn.freecodecamp.org (cdn.freecodecamp.org)... 104.26.3.33, 104.26.2.33, 172.67.70.149, ...\n",
            "Connecting to cdn.freecodecamp.org (cdn.freecodecamp.org)|104.26.3.33|:443... connected.\n",
            "HTTP request sent, awaiting response... 200 OK\n",
            "Length: 26085508 (25M) [application/zip]\n",
            "Saving to: ‘book-crossings.zip’\n",
            "\n",
            "book-crossings.zip  100%[===================>]  24.88M   117MB/s    in 0.2s    \n",
            "\n",
            "2023-01-08 19:19:57 (117 MB/s) - ‘book-crossings.zip’ saved [26085508/26085508]\n",
            "\n",
            "Archive:  book-crossings.zip\n",
            "  inflating: BX-Book-Ratings.csv     \n",
            "  inflating: BX-Books.csv            \n",
            "  inflating: BX-Users.csv            \n"
          ]
        }
      ]
    },
    {
      "cell_type": "code",
      "source": [
        "# import csv data into dataframes\n",
        "df_books = pd.read_csv(\n",
        "    books_filename,\n",
        "    encoding = \"ISO-8859-1\",\n",
        "    sep=\";\",\n",
        "    header=0,\n",
        "    names=['isbn', 'title', 'author'],\n",
        "    usecols=['isbn', 'title', 'author'],\n",
        "    dtype={'isbn': 'str', 'title': 'str', 'author': 'str'})\n",
        "\n",
        "df_ratings = pd.read_csv(\n",
        "    ratings_filename,\n",
        "    encoding = \"ISO-8859-1\",\n",
        "    sep=\";\",\n",
        "    header=0,\n",
        "    names=['user', 'isbn', 'rating'],\n",
        "    usecols=['user', 'isbn', 'rating'],\n",
        "    dtype={'user': 'int32', 'isbn': 'str', 'rating': 'float32'})"
      ],
      "metadata": {
        "id": "lkqHjkOX0Y_E"
      },
      "execution_count": null,
      "outputs": []
    },
    {
      "cell_type": "code",
      "source": [
        "# Clean up the insignificant data\n",
        "user_count = df_ratings['user'].value_counts()\n",
        "rating_count = df_ratings['isbn'].value_counts()\n",
        "\n",
        "df = df_ratings\n",
        "df = df[df['user'].isin(user_count[user_count >= 200].index)]\n",
        "df = df[df['isbn'].isin(rating_count[rating_count >= 100].index)]"
      ],
      "metadata": {
        "id": "pjffPLnZ0cJK"
      },
      "execution_count": null,
      "outputs": []
    },
    {
      "cell_type": "code",
      "source": [
        "# Merge the 2 dataframe together\n",
        "df = pd.merge(right=df, left=df_books, on='isbn')\n",
        "df.head"
      ],
      "metadata": {
        "colab": {
          "base_uri": "https://localhost:8080/"
        },
        "id": "XqHj1mMP0evo",
        "outputId": "ce253c66-b520-45c2-d003-d6400c88ac2f"
      },
      "execution_count": null,
      "outputs": [
        {
          "output_type": "execute_result",
          "data": {
            "text/plain": [
              "<bound method NDFrame.head of              isbn                                              title  \\\n",
              "0      0440234743                                      The Testament   \n",
              "1      0440234743                                      The Testament   \n",
              "2      0440234743                                      The Testament   \n",
              "3      0440234743                                      The Testament   \n",
              "4      0440234743                                      The Testament   \n",
              "...           ...                                                ...   \n",
              "49512  0515135739  Eleventh Hour: An FBI Thriller (FBI Thriller (...   \n",
              "49513  0515135739  Eleventh Hour: An FBI Thriller (FBI Thriller (...   \n",
              "49514  0515135739  Eleventh Hour: An FBI Thriller (FBI Thriller (...   \n",
              "49515  0515135739  Eleventh Hour: An FBI Thriller (FBI Thriller (...   \n",
              "49516  0515135739  Eleventh Hour: An FBI Thriller (FBI Thriller (...   \n",
              "\n",
              "                  author    user  rating  \n",
              "0           John Grisham  277478     0.0  \n",
              "1           John Grisham    2977     0.0  \n",
              "2           John Grisham    3363     0.0  \n",
              "3           John Grisham    7346     9.0  \n",
              "4           John Grisham    9856     0.0  \n",
              "...                  ...     ...     ...  \n",
              "49512  Catherine Coulter  236283     0.0  \n",
              "49513  Catherine Coulter  251613     0.0  \n",
              "49514  Catherine Coulter  252071     0.0  \n",
              "49515  Catherine Coulter  256407     0.0  \n",
              "49516  Catherine Coulter  262399     0.0  \n",
              "\n",
              "[49517 rows x 5 columns]>"
            ]
          },
          "metadata": {},
          "execution_count": 6
        }
      ]
    },
    {
      "cell_type": "code",
      "source": [
        "# Remove duplicates and NA\n",
        "df = df.drop_duplicates(subset=['user', 'title'], keep='last')"
      ],
      "metadata": {
        "id": "_mlxKyBv0gw8"
      },
      "execution_count": null,
      "outputs": []
    },
    {
      "cell_type": "code",
      "source": [
        "# Create pivot table and convert to scipy CSR matrix\n",
        "pivot_table = df.pivot(index='title', columns='user', values='rating').fillna(0)\n",
        "matrix = csr_matrix(pivot_table.values)"
      ],
      "metadata": {
        "id": "V4CeEzJW0jeI"
      },
      "execution_count": null,
      "outputs": []
    },
    {
      "cell_type": "code",
      "source": [
        "# Init KNN model\n",
        "neigh = NearestNeighbors(n_neighbors=6, metric='cosine')\n",
        "neigh.fit(matrix)"
      ],
      "metadata": {
        "colab": {
          "base_uri": "https://localhost:8080/"
        },
        "id": "6pvazWTM0nJ6",
        "outputId": "dfdfcd53-11e6-4c9b-e8a7-30ac87cebcb1"
      },
      "execution_count": null,
      "outputs": [
        {
          "output_type": "execute_result",
          "data": {
            "text/plain": [
              "NearestNeighbors(metric='cosine', n_neighbors=6)"
            ]
          },
          "metadata": {},
          "execution_count": 9
        }
      ]
    },
    {
      "cell_type": "code",
      "source": [
        "# function to return recommended books - this will be tested\n",
        "def get_recommends(book = \"\"):\n",
        "  book_arr = pivot_table[pivot_table.index == book]\n",
        "\n",
        "  book_arr = book_arr.to_numpy().reshape((1, -1))\n",
        "  distances, suggestions = neigh.kneighbors(book_arr)\n",
        "\n",
        "  distances = distances[0][::-1]\n",
        "  suggestions = suggestions[0][::-1]\n",
        "\n",
        "  recommended = []\n",
        "  for i in range(5):\n",
        "    recommended.append([pivot_table.index[suggestions[i]], distances[i]])\n",
        "  recommended_books = [\n",
        "      book,\n",
        "      recommended\n",
        "  ]\n",
        "  return recommended_books"
      ],
      "metadata": {
        "id": "h8_7vJcf0ohD"
      },
      "execution_count": null,
      "outputs": []
    },
    {
      "cell_type": "code",
      "source": [
        "books = get_recommends(\"Where the Heart Is (Oprah's Book Club (Paperback))\")\n",
        "print(books)\n",
        "\n",
        "def test_book_recommendation():\n",
        "  test_pass = True\n",
        "  recommends = get_recommends(\"Where the Heart Is (Oprah's Book Club (Paperback))\")\n",
        "  if recommends[0] != \"Where the Heart Is (Oprah's Book Club (Paperback))\":\n",
        "    test_pass = False\n",
        "  recommended_books = [\"I'll Be Seeing You\", 'The Weight of Water', 'The Surgeon', 'I Know This Much Is True']\n",
        "  recommended_books_dist = [0.8, 0.77, 0.77, 0.77]\n",
        "  for i in range(2): \n",
        "    if recommends[1][i][0] not in recommended_books:\n",
        "      test_pass = False\n",
        "    if abs(recommends[1][i][1] - recommended_books_dist[i]) >= 0.05:\n",
        "      test_pass = False\n",
        "  if test_pass:\n",
        "    print(\"You passed the challenge! 🎉🎉🎉🎉🎉\")\n",
        "  else:\n",
        "    print(\"You haven't passed yet. Keep trying!\")\n",
        "\n",
        "test_book_recommendation()"
      ],
      "metadata": {
        "colab": {
          "base_uri": "https://localhost:8080/"
        },
        "id": "rnyTEfck0r5x",
        "outputId": "37faaa28-f628-4c76-8875-30d375b5ac5e"
      },
      "execution_count": null,
      "outputs": [
        {
          "output_type": "stream",
          "name": "stdout",
          "text": [
            "[\"Where the Heart Is (Oprah's Book Club (Paperback))\", [[\"I'll Be Seeing You\", 0.8016211], ['The Weight of Water', 0.77085835], ['The Surgeon', 0.7699411], ['I Know This Much Is True', 0.7677075], ['The Lovely Bones: A Novel', 0.7234864]]]\n",
            "You passed the challenge! 🎉🎉🎉🎉🎉\n"
          ]
        }
      ]
    }
  ]
}
